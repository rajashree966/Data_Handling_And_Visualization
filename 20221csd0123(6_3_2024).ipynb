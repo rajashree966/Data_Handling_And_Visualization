{
  "nbformat": 4,
  "nbformat_minor": 0,
  "metadata": {
    "colab": {
      "provenance": [],
      "authorship_tag": "ABX9TyMc7pmLwm+aP98TPP/PPfLK",
      "include_colab_link": true
    },
    "kernelspec": {
      "name": "python3",
      "display_name": "Python 3"
    },
    "language_info": {
      "name": "python"
    }
  },
  "cells": [
    {
      "cell_type": "markdown",
      "metadata": {
        "id": "view-in-github",
        "colab_type": "text"
      },
      "source": [
        "<a href=\"https://colab.research.google.com/github/rajashree966/Data_Handling_And_Visualization/blob/main/20221csd0123(6_3_2024).ipynb\" target=\"_parent\"><img src=\"https://colab.research.google.com/assets/colab-badge.svg\" alt=\"Open In Colab\"/></a>"
      ]
    },
    {
      "cell_type": "code",
      "execution_count": 34,
      "metadata": {
        "colab": {
          "base_uri": "https://localhost:8080/"
        },
        "id": "HdRUQfqau8Iq",
        "outputId": "25b626be-1ea6-401e-f7b1-d78bfb58af69"
      },
      "outputs": [
        {
          "output_type": "stream",
          "name": "stdout",
          "text": [
            "<class 'pandas.core.frame.DataFrame'>\n",
            "RangeIndex: 45716 entries, 0 to 45715\n",
            "Data columns (total 10 columns):\n",
            " #   Column       Non-Null Count  Dtype  \n",
            "---  ------       --------------  -----  \n",
            " 0   name         45716 non-null  object \n",
            " 1   id           45716 non-null  int64  \n",
            " 2   nametype     45716 non-null  object \n",
            " 3   recclass     45716 non-null  object \n",
            " 4   mass (g)     45585 non-null  float64\n",
            " 5   fall         45716 non-null  object \n",
            " 6   year         45425 non-null  float64\n",
            " 7   reclat       38401 non-null  float64\n",
            " 8   reclong      38401 non-null  float64\n",
            " 9   GeoLocation  38401 non-null  object \n",
            "dtypes: float64(4), int64(1), object(5)\n",
            "memory usage: 3.5+ MB\n"
          ]
        },
        {
          "output_type": "execute_result",
          "data": {
            "text/plain": [
              "0        False\n",
              "1        False\n",
              "2        False\n",
              "3        False\n",
              "4        False\n",
              "         ...  \n",
              "45711     True\n",
              "45712     True\n",
              "45713     True\n",
              "45714     True\n",
              "45715     True\n",
              "Name: fall, Length: 45716, dtype: bool"
            ]
          },
          "metadata": {},
          "execution_count": 34
        }
      ],
      "source": [
        "import pandas as pd\n",
        "meteorites=pd.read_csv('/usr/lib32/data/Meteorite_Landings_20240306.csv',)\n",
        "meteorites\n",
        "meteorites.name\n",
        "meteorites.columns\n",
        "meteorites.index\n",
        "#meteorites=pd.read_csv('/usr/lib32/data/Meteorite_Landings_20240306.csv')\n",
        "meteorites.shape\n",
        "meteorites.dtypes\n",
        "meteorites.info()\n",
        "meteorites[['name','mass (g)']]\n",
        "meteorites[100:104]\n",
        "meteorites.iloc[100:104,[0,3,4,6]]\n",
        "meteorites.loc[100:104,'mass (g)':'year']\n",
        "meteorites['mass (g)']>50\n",
        "meteorites.fall=='Found'"
      ]
    },
    {
      "cell_type": "code",
      "source": [
        "import requests\n",
        "response=requests.get('https://data.nasa.gov/resource/gh4g-9sfh.json',\n",
        "                      params={'$limit':50_000})\n",
        "if response.ok:\n",
        "  payload=response.json()\n",
        "else:\n",
        "  print(f\"Request not successful and return code:{response.status_code}.\")\n",
        "  payload=None\n",
        "df=pd.DataFrame(payload)\n",
        "df.head(5)\n",
        "df.shape\n",
        "df.dtypes\n",
        "df.info()\n",
        "df[['id','fall']]\n",
        "df[200:204]\n",
        "df.iloc[100:104,[0,3,4,6]]\n",
        "df.loc[100:104,'id':'fall']\n",
        "meteorites['id']>50\n",
        "meteorites.fall=='Found'\n"
      ],
      "metadata": {
        "colab": {
          "base_uri": "https://localhost:8080/"
        },
        "id": "VYl3WdvQ0EbK",
        "outputId": "2e1bd52b-10b6-410e-c159-77529ecdaecd"
      },
      "execution_count": 35,
      "outputs": [
        {
          "output_type": "stream",
          "name": "stdout",
          "text": [
            "<class 'pandas.core.frame.DataFrame'>\n",
            "RangeIndex: 45716 entries, 0 to 45715\n",
            "Data columns (total 12 columns):\n",
            " #   Column                       Non-Null Count  Dtype \n",
            "---  ------                       --------------  ----- \n",
            " 0   name                         45716 non-null  object\n",
            " 1   id                           45716 non-null  object\n",
            " 2   nametype                     45716 non-null  object\n",
            " 3   recclass                     45716 non-null  object\n",
            " 4   mass                         45585 non-null  object\n",
            " 5   fall                         45716 non-null  object\n",
            " 6   year                         45425 non-null  object\n",
            " 7   reclat                       38401 non-null  object\n",
            " 8   reclong                      38401 non-null  object\n",
            " 9   geolocation                  38401 non-null  object\n",
            " 10  :@computed_region_cbhk_fwbd  1659 non-null   object\n",
            " 11  :@computed_region_nnqa_25f4  1659 non-null   object\n",
            "dtypes: object(12)\n",
            "memory usage: 4.2+ MB\n"
          ]
        },
        {
          "output_type": "execute_result",
          "data": {
            "text/plain": [
              "0        False\n",
              "1        False\n",
              "2        False\n",
              "3        False\n",
              "4        False\n",
              "         ...  \n",
              "45711     True\n",
              "45712     True\n",
              "45713     True\n",
              "45714     True\n",
              "45715     True\n",
              "Name: fall, Length: 45716, dtype: bool"
            ]
          },
          "metadata": {},
          "execution_count": 35
        }
      ]
    }
  ]
}